{
 "cells": [
  {
   "cell_type": "markdown",
   "id": "9b973e92",
   "metadata": {},
   "source": [
    "# This notebook sets up the baseline model mcorec_baseline"
   ]
  },
  {
   "cell_type": "markdown",
   "id": "8fa7a808",
   "metadata": {},
   "source": [
    "Das Notebook soll das setup für das Baseline model erleichtern, das im Git Repository größere Dateien wie die model-bin  \n",
    "nicht hinterlegt sind.\n",
    "\n",
    "Erstelle local settings.json datei im Ordner team_b/mcorec_baseline, wo der huggingfacetoken gespeichert ist."
   ]
  },
  {
   "cell_type": "code",
   "execution_count": 2,
   "id": "234fa39b",
   "metadata": {},
   "outputs": [
    {
     "name": "stdout",
     "output_type": "stream",
     "text": [
      "Requirement already satisfied: torch==2.7.1 in c:\\projects\\auvis\\.venv\\lib\\site-packages (from -r requirements.txt (line 1)) (2.7.1)\n",
      "Requirement already satisfied: torchvision==0.22.1 in c:\\projects\\auvis\\.venv\\lib\\site-packages (from -r requirements.txt (line 2)) (0.22.1)\n",
      "Requirement already satisfied: torchaudio==2.7.1 in c:\\projects\\auvis\\.venv\\lib\\site-packages (from -r requirements.txt (line 3)) (2.7.1)\n",
      "Requirement already satisfied: torchcodec==0.7.0 in c:\\projects\\auvis\\.venv\\lib\\site-packages (from -r requirements.txt (line 4)) (0.7.0)\n",
      "Requirement already satisfied: sentencepiece==0.2.0 in c:\\projects\\auvis\\.venv\\lib\\site-packages (from -r requirements.txt (line 5)) (0.2.0)\n",
      "Requirement already satisfied: transformers==4.52.4 in c:\\projects\\auvis\\.venv\\lib\\site-packages (from -r requirements.txt (line 6)) (4.52.4)\n",
      "Requirement already satisfied: accelerate==1.7.0 in c:\\projects\\auvis\\.venv\\lib\\site-packages (from -r requirements.txt (line 7)) (1.7.0)\n",
      "Requirement already satisfied: datasets==3.6.0 in c:\\projects\\auvis\\.venv\\lib\\site-packages (from -r requirements.txt (line 8)) (3.6.0)\n",
      "Requirement already satisfied: six==1.17.0 in c:\\projects\\auvis\\.venv\\lib\\site-packages (from -r requirements.txt (line 9)) (1.17.0)\n",
      "Requirement already satisfied: torch-summary==1.4.5 in c:\\projects\\auvis\\.venv\\lib\\site-packages (from -r requirements.txt (line 10)) (1.4.5)\n",
      "Requirement already satisfied: av==12.0.0 in c:\\projects\\auvis\\.venv\\lib\\site-packages (from -r requirements.txt (line 11)) (12.0.0)\n",
      "Requirement already satisfied: jiwer==3.0.5 in c:\\projects\\auvis\\.venv\\lib\\site-packages (from -r requirements.txt (line 12)) (3.0.5)\n",
      "Requirement already satisfied: wandb==0.19.1 in c:\\projects\\auvis\\.venv\\lib\\site-packages (from -r requirements.txt (line 13)) (0.19.1)\n",
      "Requirement already satisfied: python_speech_features==0.6 in c:\\projects\\auvis\\.venv\\lib\\site-packages (from -r requirements.txt (line 14)) (0.6)\n",
      "Requirement already satisfied: opencv-python==4.10.0.84 in c:\\projects\\auvis\\.venv\\lib\\site-packages (from -r requirements.txt (line 15)) (4.10.0.84)\n",
      "Requirement already satisfied: scikit-image==0.25.2 in c:\\projects\\auvis\\.venv\\lib\\site-packages (from -r requirements.txt (line 16)) (0.25.2)\n",
      "Requirement already satisfied: ffmpeg-python==0.2.0 in c:\\projects\\auvis\\.venv\\lib\\site-packages (from -r requirements.txt (line 17)) (0.2.0)\n",
      "Requirement already satisfied: scikit-learn==1.6.1 in c:\\projects\\auvis\\.venv\\lib\\site-packages (from -r requirements.txt (line 18)) (1.6.1)\n",
      "Requirement already satisfied: webvtt-py in c:\\projects\\auvis\\.venv\\lib\\site-packages (from -r requirements.txt (line 19)) (0.5.1)\n",
      "Requirement already satisfied: filelock in c:\\projects\\auvis\\.venv\\lib\\site-packages (from torch==2.7.1->-r requirements.txt (line 1)) (3.19.1)\n",
      "Requirement already satisfied: typing-extensions>=4.10.0 in c:\\projects\\auvis\\.venv\\lib\\site-packages (from torch==2.7.1->-r requirements.txt (line 1)) (4.15.0)\n",
      "Requirement already satisfied: sympy>=1.13.3 in c:\\projects\\auvis\\.venv\\lib\\site-packages (from torch==2.7.1->-r requirements.txt (line 1)) (1.14.0)\n",
      "Requirement already satisfied: networkx in c:\\projects\\auvis\\.venv\\lib\\site-packages (from torch==2.7.1->-r requirements.txt (line 1)) (3.5)\n",
      "Requirement already satisfied: jinja2 in c:\\projects\\auvis\\.venv\\lib\\site-packages (from torch==2.7.1->-r requirements.txt (line 1)) (3.1.6)\n",
      "Requirement already satisfied: fsspec in c:\\projects\\auvis\\.venv\\lib\\site-packages (from torch==2.7.1->-r requirements.txt (line 1)) (2025.3.0)\n",
      "Requirement already satisfied: numpy in c:\\projects\\auvis\\.venv\\lib\\site-packages (from torchvision==0.22.1->-r requirements.txt (line 2)) (2.3.3)\n",
      "Requirement already satisfied: pillow!=8.3.*,>=5.3.0 in c:\\projects\\auvis\\.venv\\lib\\site-packages (from torchvision==0.22.1->-r requirements.txt (line 2)) (11.3.0)\n",
      "Requirement already satisfied: huggingface-hub<1.0,>=0.30.0 in c:\\projects\\auvis\\.venv\\lib\\site-packages (from transformers==4.52.4->-r requirements.txt (line 6)) (0.34.4)\n",
      "Requirement already satisfied: packaging>=20.0 in c:\\projects\\auvis\\.venv\\lib\\site-packages (from transformers==4.52.4->-r requirements.txt (line 6)) (25.0)\n",
      "Requirement already satisfied: pyyaml>=5.1 in c:\\projects\\auvis\\.venv\\lib\\site-packages (from transformers==4.52.4->-r requirements.txt (line 6)) (6.0.2)\n",
      "Requirement already satisfied: regex!=2019.12.17 in c:\\projects\\auvis\\.venv\\lib\\site-packages (from transformers==4.52.4->-r requirements.txt (line 6)) (2025.9.1)\n",
      "Requirement already satisfied: requests in c:\\projects\\auvis\\.venv\\lib\\site-packages (from transformers==4.52.4->-r requirements.txt (line 6)) (2.32.5)\n",
      "Requirement already satisfied: tokenizers<0.22,>=0.21 in c:\\projects\\auvis\\.venv\\lib\\site-packages (from transformers==4.52.4->-r requirements.txt (line 6)) (0.21.4)\n",
      "Requirement already satisfied: safetensors>=0.4.3 in c:\\projects\\auvis\\.venv\\lib\\site-packages (from transformers==4.52.4->-r requirements.txt (line 6)) (0.6.2)\n",
      "Requirement already satisfied: tqdm>=4.27 in c:\\projects\\auvis\\.venv\\lib\\site-packages (from transformers==4.52.4->-r requirements.txt (line 6)) (4.67.1)\n",
      "Requirement already satisfied: psutil in c:\\projects\\auvis\\.venv\\lib\\site-packages (from accelerate==1.7.0->-r requirements.txt (line 7)) (7.0.0)\n",
      "Requirement already satisfied: pyarrow>=15.0.0 in c:\\projects\\auvis\\.venv\\lib\\site-packages (from datasets==3.6.0->-r requirements.txt (line 8)) (21.0.0)\n",
      "Requirement already satisfied: dill<0.3.9,>=0.3.0 in c:\\projects\\auvis\\.venv\\lib\\site-packages (from datasets==3.6.0->-r requirements.txt (line 8)) (0.3.8)\n",
      "Requirement already satisfied: pandas in c:\\projects\\auvis\\.venv\\lib\\site-packages (from datasets==3.6.0->-r requirements.txt (line 8)) (2.3.2)\n",
      "Requirement already satisfied: xxhash in c:\\projects\\auvis\\.venv\\lib\\site-packages (from datasets==3.6.0->-r requirements.txt (line 8)) (3.5.0)\n",
      "Requirement already satisfied: multiprocess<0.70.17 in c:\\projects\\auvis\\.venv\\lib\\site-packages (from datasets==3.6.0->-r requirements.txt (line 8)) (0.70.16)\n",
      "Requirement already satisfied: click<9.0.0,>=8.1.3 in c:\\projects\\auvis\\.venv\\lib\\site-packages (from jiwer==3.0.5->-r requirements.txt (line 12)) (8.2.1)\n",
      "Requirement already satisfied: rapidfuzz<4,>=3 in c:\\projects\\auvis\\.venv\\lib\\site-packages (from jiwer==3.0.5->-r requirements.txt (line 12)) (3.14.1)\n",
      "Requirement already satisfied: docker-pycreds>=0.4.0 in c:\\projects\\auvis\\.venv\\lib\\site-packages (from wandb==0.19.1->-r requirements.txt (line 13)) (0.4.0)\n",
      "Requirement already satisfied: gitpython!=3.1.29,>=1.0.0 in c:\\projects\\auvis\\.venv\\lib\\site-packages (from wandb==0.19.1->-r requirements.txt (line 13)) (3.1.45)\n",
      "Requirement already satisfied: platformdirs in c:\\projects\\auvis\\.venv\\lib\\site-packages (from wandb==0.19.1->-r requirements.txt (line 13)) (4.4.0)\n",
      "Requirement already satisfied: protobuf!=4.21.0,!=5.28.0,<6,>=3.19.0 in c:\\projects\\auvis\\.venv\\lib\\site-packages (from wandb==0.19.1->-r requirements.txt (line 13)) (5.29.5)\n",
      "Requirement already satisfied: pydantic<3,>=2.6 in c:\\projects\\auvis\\.venv\\lib\\site-packages (from wandb==0.19.1->-r requirements.txt (line 13)) (2.11.7)\n",
      "Requirement already satisfied: sentry-sdk>=2.0.0 in c:\\projects\\auvis\\.venv\\lib\\site-packages (from wandb==0.19.1->-r requirements.txt (line 13)) (2.37.1)\n",
      "Requirement already satisfied: setproctitle in c:\\projects\\auvis\\.venv\\lib\\site-packages (from wandb==0.19.1->-r requirements.txt (line 13)) (1.3.7)\n",
      "Requirement already satisfied: setuptools in c:\\projects\\auvis\\.venv\\lib\\site-packages (from wandb==0.19.1->-r requirements.txt (line 13)) (65.5.0)\n",
      "Requirement already satisfied: scipy>=1.11.4 in c:\\projects\\auvis\\.venv\\lib\\site-packages (from scikit-image==0.25.2->-r requirements.txt (line 16)) (1.16.2)\n",
      "Requirement already satisfied: imageio!=2.35.0,>=2.33 in c:\\projects\\auvis\\.venv\\lib\\site-packages (from scikit-image==0.25.2->-r requirements.txt (line 16)) (2.37.0)\n",
      "Requirement already satisfied: tifffile>=2022.8.12 in c:\\projects\\auvis\\.venv\\lib\\site-packages (from scikit-image==0.25.2->-r requirements.txt (line 16)) (2025.9.9)\n",
      "Requirement already satisfied: lazy-loader>=0.4 in c:\\projects\\auvis\\.venv\\lib\\site-packages (from scikit-image==0.25.2->-r requirements.txt (line 16)) (0.4)\n",
      "Requirement already satisfied: future in c:\\projects\\auvis\\.venv\\lib\\site-packages (from ffmpeg-python==0.2.0->-r requirements.txt (line 17)) (1.0.0)\n",
      "Requirement already satisfied: joblib>=1.2.0 in c:\\projects\\auvis\\.venv\\lib\\site-packages (from scikit-learn==1.6.1->-r requirements.txt (line 18)) (1.5.2)\n",
      "Requirement already satisfied: threadpoolctl>=3.1.0 in c:\\projects\\auvis\\.venv\\lib\\site-packages (from scikit-learn==1.6.1->-r requirements.txt (line 18)) (3.6.0)\n",
      "Requirement already satisfied: colorama in c:\\projects\\auvis\\.venv\\lib\\site-packages (from click<9.0.0,>=8.1.3->jiwer==3.0.5->-r requirements.txt (line 12)) (0.4.6)\n",
      "Requirement already satisfied: aiohttp!=4.0.0a0,!=4.0.0a1 in c:\\projects\\auvis\\.venv\\lib\\site-packages (from fsspec[http]<=2025.3.0,>=2023.1.0->datasets==3.6.0->-r requirements.txt (line 8)) (3.12.15)\n",
      "Requirement already satisfied: annotated-types>=0.6.0 in c:\\projects\\auvis\\.venv\\lib\\site-packages (from pydantic<3,>=2.6->wandb==0.19.1->-r requirements.txt (line 13)) (0.7.0)\n",
      "Requirement already satisfied: pydantic-core==2.33.2 in c:\\projects\\auvis\\.venv\\lib\\site-packages (from pydantic<3,>=2.6->wandb==0.19.1->-r requirements.txt (line 13)) (2.33.2)\n",
      "Requirement already satisfied: typing-inspection>=0.4.0 in c:\\projects\\auvis\\.venv\\lib\\site-packages (from pydantic<3,>=2.6->wandb==0.19.1->-r requirements.txt (line 13)) (0.4.1)\n",
      "Requirement already satisfied: charset_normalizer<4,>=2 in c:\\projects\\auvis\\.venv\\lib\\site-packages (from requests->transformers==4.52.4->-r requirements.txt (line 6)) (3.4.3)\n",
      "Requirement already satisfied: idna<4,>=2.5 in c:\\projects\\auvis\\.venv\\lib\\site-packages (from requests->transformers==4.52.4->-r requirements.txt (line 6)) (3.10)\n",
      "Requirement already satisfied: urllib3<3,>=1.21.1 in c:\\projects\\auvis\\.venv\\lib\\site-packages (from requests->transformers==4.52.4->-r requirements.txt (line 6)) (2.5.0)\n",
      "Requirement already satisfied: certifi>=2017.4.17 in c:\\projects\\auvis\\.venv\\lib\\site-packages (from requests->transformers==4.52.4->-r requirements.txt (line 6)) (2025.8.3)\n",
      "Requirement already satisfied: aiohappyeyeballs>=2.5.0 in c:\\projects\\auvis\\.venv\\lib\\site-packages (from aiohttp!=4.0.0a0,!=4.0.0a1->fsspec[http]<=2025.3.0,>=2023.1.0->datasets==3.6.0->-r requirements.txt (line 8)) (2.6.1)\n",
      "Requirement already satisfied: aiosignal>=1.4.0 in c:\\projects\\auvis\\.venv\\lib\\site-packages (from aiohttp!=4.0.0a0,!=4.0.0a1->fsspec[http]<=2025.3.0,>=2023.1.0->datasets==3.6.0->-r requirements.txt (line 8)) (1.4.0)\n",
      "Requirement already satisfied: attrs>=17.3.0 in c:\\projects\\auvis\\.venv\\lib\\site-packages (from aiohttp!=4.0.0a0,!=4.0.0a1->fsspec[http]<=2025.3.0,>=2023.1.0->datasets==3.6.0->-r requirements.txt (line 8)) (25.3.0)\n",
      "Requirement already satisfied: frozenlist>=1.1.1 in c:\\projects\\auvis\\.venv\\lib\\site-packages (from aiohttp!=4.0.0a0,!=4.0.0a1->fsspec[http]<=2025.3.0,>=2023.1.0->datasets==3.6.0->-r requirements.txt (line 8)) (1.7.0)\n",
      "Requirement already satisfied: multidict<7.0,>=4.5 in c:\\projects\\auvis\\.venv\\lib\\site-packages (from aiohttp!=4.0.0a0,!=4.0.0a1->fsspec[http]<=2025.3.0,>=2023.1.0->datasets==3.6.0->-r requirements.txt (line 8)) (6.6.4)\n",
      "Requirement already satisfied: propcache>=0.2.0 in c:\\projects\\auvis\\.venv\\lib\\site-packages (from aiohttp!=4.0.0a0,!=4.0.0a1->fsspec[http]<=2025.3.0,>=2023.1.0->datasets==3.6.0->-r requirements.txt (line 8)) (0.3.2)\n",
      "Requirement already satisfied: yarl<2.0,>=1.17.0 in c:\\projects\\auvis\\.venv\\lib\\site-packages (from aiohttp!=4.0.0a0,!=4.0.0a1->fsspec[http]<=2025.3.0,>=2023.1.0->datasets==3.6.0->-r requirements.txt (line 8)) (1.20.1)\n",
      "Requirement already satisfied: gitdb<5,>=4.0.1 in c:\\projects\\auvis\\.venv\\lib\\site-packages (from gitpython!=3.1.29,>=1.0.0->wandb==0.19.1->-r requirements.txt (line 13)) (4.0.12)\n",
      "Requirement already satisfied: smmap<6,>=3.0.1 in c:\\projects\\auvis\\.venv\\lib\\site-packages (from gitdb<5,>=4.0.1->gitpython!=3.1.29,>=1.0.0->wandb==0.19.1->-r requirements.txt (line 13)) (5.0.2)\n",
      "Requirement already satisfied: mpmath<1.4,>=1.1.0 in c:\\projects\\auvis\\.venv\\lib\\site-packages (from sympy>=1.13.3->torch==2.7.1->-r requirements.txt (line 1)) (1.3.0)\n",
      "Requirement already satisfied: MarkupSafe>=2.0 in c:\\projects\\auvis\\.venv\\lib\\site-packages (from jinja2->torch==2.7.1->-r requirements.txt (line 1)) (3.0.2)\n",
      "Requirement already satisfied: python-dateutil>=2.8.2 in c:\\projects\\auvis\\.venv\\lib\\site-packages (from pandas->datasets==3.6.0->-r requirements.txt (line 8)) (2.9.0.post0)\n",
      "Requirement already satisfied: pytz>=2020.1 in c:\\projects\\auvis\\.venv\\lib\\site-packages (from pandas->datasets==3.6.0->-r requirements.txt (line 8)) (2025.2)\n",
      "Requirement already satisfied: tzdata>=2022.7 in c:\\projects\\auvis\\.venv\\lib\\site-packages (from pandas->datasets==3.6.0->-r requirements.txt (line 8)) (2025.2)\n"
     ]
    }
   ],
   "source": [
    "!pip install -r requirements.txt"
   ]
  },
  {
   "cell_type": "code",
   "execution_count": 4,
   "id": "d947d144",
   "metadata": {},
   "outputs": [
    {
     "name": "stdout",
     "output_type": "stream",
     "text": [
      "Collecting ffmpeg\n",
      "  Using cached ffmpeg-1.4.tar.gz (5.1 kB)\n",
      "  Installing build dependencies: started\n",
      "  Installing build dependencies: finished with status 'done'\n",
      "  Getting requirements to build wheel: started\n",
      "  Getting requirements to build wheel: finished with status 'done'\n",
      "  Preparing metadata (pyproject.toml): started\n",
      "  Preparing metadata (pyproject.toml): finished with status 'done'\n",
      "Building wheels for collected packages: ffmpeg\n",
      "  Building wheel for ffmpeg (pyproject.toml): started\n",
      "  Building wheel for ffmpeg (pyproject.toml): finished with status 'done'\n",
      "  Created wheel for ffmpeg: filename=ffmpeg-1.4-py3-none-any.whl size=6138 sha256=b05619de0e239459b97c5be10bf29b5abbb16e16828d5eb73ec82abc3b91638a\n",
      "  Stored in directory: c:\\users\\jkaiser\\appdata\\local\\pip\\cache\\wheels\\56\\30\\c5\\576bdd729f3bc062d62a551be7fefd6ed2f761901568171e4e\n",
      "Successfully built ffmpeg\n",
      "Installing collected packages: ffmpeg\n",
      "Successfully installed ffmpeg-1.4\n"
     ]
    }
   ],
   "source": [
    "!pip install ffmpeg"
   ]
  },
  {
   "cell_type": "code",
   "execution_count": null,
   "id": "7682182e",
   "metadata": {},
   "outputs": [
    {
     "name": "stdout",
     "output_type": "stream",
     "text": [
      "Lade Modell herunter...\n",
      "Entpacke Modell...\n",
      "Modell erfolgreich heruntergeladen und entpackt nach 'model-bin/'\n"
     ]
    }
   ],
   "source": [
    "import requests\n",
    "import zipfile\n",
    "import io, json\n",
    "import os\n",
    "from pathlib import Path\n",
    "\n",
    "\n",
    "# Ziel-URL und Speicherpfad\n",
    "url = \"https://huggingface.co/MCoRecChallenge/MCoRec-baseline/resolve/main/model-bin.zip\"\n",
    "output_dir = \"model-bin\"\n",
    "\n",
    "# Download der ZIP-Datei mit Streaming\n",
    "print(\"Lade Modell herunter...\")\n",
    "response = requests.get(url, stream=True)\n",
    "response.raise_for_status()\n",
    "\n",
    "# Entpacken direkt aus dem Speicher\n",
    "print(\"Entpacke Modell...\")\n",
    "with zipfile.ZipFile(io.BytesIO(response.content)) as zip_ref:\n",
    "    zip_ref.extractall(output_dir)\n",
    "\n",
    "print(f\"Modell erfolgreich heruntergeladen und entpackt nach '{output_dir}/'\")\n",
    "\n",
    "with open(\"settings.json\", \"r\") as f:\n",
    "    settings = json.load(f)\n",
    "\n",
    "HF_TOKEN = settings.get(\"hf_token\")\n",
    "if not HF_TOKEN:\n",
    "    raise ValueError(\"Hugging Face Token nicht gefunden in settings.json\")"
   ]
  },
  {
   "cell_type": "code",
   "execution_count": null,
   "id": "493553e9",
   "metadata": {},
   "outputs": [],
   "source": [
    "\n",
    "os.chdir(\"mcorec_baseline\")\n",
    "\n",
    "data_dir = Path(\"data-bin\")\n",
    "data_dir.mkdir(parents=True, exist_ok=True)\n",
    "\n",
    "os.chdir(data_dir)\n",
    "\n",
    "url = \"https://huggingface.co/datasets/MCoRecChallenge/MCoRec/resolve/main/dev_without_central_videos.zip\"\n",
    "headers = {\"Authorization\": f\"Bearer {HF_TOKEN}\"}\n",
    "\n",
    "print(\"Lade ZIP-Datei herunter...\")\n",
    "response = requests.get(url, headers=headers)\n",
    "response.raise_for_status()\n",
    "\n",
    "zip_path = \"dev_without_central_videos.zip\"\n",
    "with open(zip_path, \"wb\") as f:\n",
    "    f.write(response.content)\n",
    "\n",
    "print(\"Entpacke ZIP-Datei...\")\n",
    "with zipfile.ZipFile(zip_path, \"r\") as zip_ref:\n",
    "    zip_ref.extractall(\".\")\n",
    "\n",
    "print(\"Download und Entpacken abgeschlossen.\")\n"
   ]
  }
 ],
 "metadata": {
  "kernelspec": {
   "display_name": ".venv",
   "language": "python",
   "name": "python3"
  },
  "language_info": {
   "codemirror_mode": {
    "name": "ipython",
    "version": 3
   },
   "file_extension": ".py",
   "mimetype": "text/x-python",
   "name": "python",
   "nbconvert_exporter": "python",
   "pygments_lexer": "ipython3",
   "version": "3.11.0"
  }
 },
 "nbformat": 4,
 "nbformat_minor": 5
}
